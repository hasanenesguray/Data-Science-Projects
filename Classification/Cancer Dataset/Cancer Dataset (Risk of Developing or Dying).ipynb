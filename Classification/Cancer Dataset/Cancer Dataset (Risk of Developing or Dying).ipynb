{
 "cells": [
  {
   "cell_type": "markdown",
   "id": "220cc722",
   "metadata": {},
   "source": [
    "# Problem Statement"
   ]
  },
  {
   "cell_type": "markdown",
   "id": "c27e1619",
   "metadata": {},
   "source": [
    "## Title\n",
    "Comparative Analysis of Gender-Specific Cancer Risk and Mortality Rates: Insights from Development and Dying Ratios Across Different Cancer Types"
   ]
  },
  {
   "cell_type": "markdown",
   "id": "342071ae",
   "metadata": {},
   "source": [
    "## Objective\n",
    "This research aims to analyze and compare the cancer risk and mortality rates between males and females across different cancer types. By examining both development and dying ratios, the study seeks to provide insights into gender-specific cancer risks and outcomes, highlighting key differences and trends."
   ]
  },
  {
   "cell_type": "markdown",
   "id": "36139419",
   "metadata": {},
   "source": [
    "## Dataset Description\n",
    "The dataset contains the following columns:\n",
    "\n",
    "* Cancer Type: The type of cancer being analyzed (e.g., Bladder, Breast, Brain and Nervous System).\n",
    "* Male Risk Development Percentage: The percentage chance that a male will develop the specified cancer over their lifetime.\n",
    "* Male Risk Development Ratio (One in __ Person): The likelihood ratio for males developing the cancer compared to the general population.\n",
    "* Male Risk Dying Percentage: The percentage chance that a male will die from the cancer if diagnosed.\n",
    "* Male Risk Dying Ratio (One in __ Person): The likelihood ratio for males dying from the cancer compared to the general population.\n",
    "* Female Risk Development Percentage: The percentage chance that a female will develop the specified cancer over their lifetime.\n",
    "* Female Risk Development Ratio (One in __ Person): The likelihood ratio for females developing the cancer compared to the general population.\n",
    "* Female Risk Dying Percentage: The percentage chance that a female will die from the cancer if diagnosed.\n",
    "* Female Risk Dying Ratio (One in __ Person): The likelihood ratio for females dying from the cancer compared to the general population."
   ]
  },
  {
   "cell_type": "markdown",
   "id": "2758b6f9",
   "metadata": {},
   "source": [
    "## 1. Import Libraries"
   ]
  },
  {
   "cell_type": "code",
   "execution_count": 1,
   "id": "a076f8a7",
   "metadata": {},
   "outputs": [
    {
     "name": "stderr",
     "output_type": "stream",
     "text": [
      "/Users/hasanenesguray/opt/anaconda3/lib/python3.9/site-packages/pandas/core/arrays/masked.py:60: UserWarning: Pandas requires version '1.3.6' or newer of 'bottleneck' (version '1.3.5' currently installed).\n",
      "  from pandas.core import (\n"
     ]
    }
   ],
   "source": [
    "import pandas as pd\n",
    "import numpy as np\n",
    "import matplotlib.pyplot as plt\n",
    "import seaborn as sns\n",
    "from sklearn.model_selection import train_test_split, learning_curve\n",
    "from sklearn.preprocessing import StandardScaler\n",
    "from sklearn.metrics import classification_report, roc_curve, auc, roc_auc_score\n",
    "from sklearn.ensemble import RandomForestClassifier, GradientBoostingClassifier, AdaBoostClassifier\n",
    "from sklearn.linear_model import LogisticRegression, RidgeClassifier\n",
    "from sklearn.svm import SVC\n",
    "from sklearn.neighbors import KNeighborsClassifier\n",
    "from sklearn.tree import DecisionTreeClassifier\n",
    "from sklearn.naive_bayes import GaussianNB\n",
    "from sklearn.neural_network import MLPClassifier\n",
    "from xgboost import XGBClassifier\n",
    "from sklearn.metrics import roc_auc_score\n",
    "from scipy import stats\n",
    "\n",
    "import warnings\n",
    "warnings.filterwarnings(\"ignore\")"
   ]
  },
  {
   "cell_type": "markdown",
   "id": "841a99fb",
   "metadata": {},
   "source": [
    "## 2. Load and Preview Data"
   ]
  },
  {
   "cell_type": "code",
   "execution_count": 2,
   "id": "348eb803",
   "metadata": {},
   "outputs": [],
   "source": [
    "# Load the dataset\n",
    "data = pd.read_csv(\"Risk of Developing or Dying From Cancer.csv\")\n"
   ]
  },
  {
   "cell_type": "code",
   "execution_count": 3,
   "id": "63738865",
   "metadata": {},
   "outputs": [
    {
     "data": {
      "text/html": [
       "<div>\n",
       "<style scoped>\n",
       "    .dataframe tbody tr th:only-of-type {\n",
       "        vertical-align: middle;\n",
       "    }\n",
       "\n",
       "    .dataframe tbody tr th {\n",
       "        vertical-align: top;\n",
       "    }\n",
       "\n",
       "    .dataframe thead th {\n",
       "        text-align: right;\n",
       "    }\n",
       "</style>\n",
       "<table border=\"1\" class=\"dataframe\">\n",
       "  <thead>\n",
       "    <tr style=\"text-align: right;\">\n",
       "      <th></th>\n",
       "      <th>Cancer Type</th>\n",
       "      <th>Male Risk Development Percentage</th>\n",
       "      <th>Male Risk Development Ratio(One in ____ Person)</th>\n",
       "      <th>Male Risk Dying Percentage</th>\n",
       "      <th>Male Risk Dying Ratio(One in ____ Person)</th>\n",
       "      <th>Female Risk Development Percentage</th>\n",
       "      <th>Female Risk Development Ratio(One in ____ Person)</th>\n",
       "      <th>Female Risk Dying Percentage</th>\n",
       "      <th>Female Risk Dying Ratio(One in ____ Person)</th>\n",
       "    </tr>\n",
       "  </thead>\n",
       "  <tbody>\n",
       "    <tr>\n",
       "      <th>0</th>\n",
       "      <td>Any cancer</td>\n",
       "      <td>41.6</td>\n",
       "      <td>2</td>\n",
       "      <td>19.0</td>\n",
       "      <td>5</td>\n",
       "      <td>39.6</td>\n",
       "      <td>3</td>\n",
       "      <td>17.0</td>\n",
       "      <td>6</td>\n",
       "    </tr>\n",
       "    <tr>\n",
       "      <th>1</th>\n",
       "      <td>Bladder</td>\n",
       "      <td>3.6</td>\n",
       "      <td>28</td>\n",
       "      <td>0.8</td>\n",
       "      <td>119</td>\n",
       "      <td>1.1</td>\n",
       "      <td>89</td>\n",
       "      <td>0.3</td>\n",
       "      <td>311</td>\n",
       "    </tr>\n",
       "    <tr>\n",
       "      <th>2</th>\n",
       "      <td>Brain and nervous system</td>\n",
       "      <td>0.7</td>\n",
       "      <td>145</td>\n",
       "      <td>0.5</td>\n",
       "      <td>192</td>\n",
       "      <td>0.5</td>\n",
       "      <td>186</td>\n",
       "      <td>0.4</td>\n",
       "      <td>243</td>\n",
       "    </tr>\n",
       "    <tr>\n",
       "      <th>3</th>\n",
       "      <td>Breast</td>\n",
       "      <td>0.1</td>\n",
       "      <td>726</td>\n",
       "      <td>0.1</td>\n",
       "      <td>3476</td>\n",
       "      <td>13.0</td>\n",
       "      <td>8</td>\n",
       "      <td>2.5</td>\n",
       "      <td>41</td>\n",
       "    </tr>\n",
       "    <tr>\n",
       "      <th>4</th>\n",
       "      <td>Colon and rectum</td>\n",
       "      <td>4.3</td>\n",
       "      <td>23</td>\n",
       "      <td>1.6</td>\n",
       "      <td>61</td>\n",
       "      <td>3.9</td>\n",
       "      <td>25</td>\n",
       "      <td>1.5</td>\n",
       "      <td>67</td>\n",
       "    </tr>\n",
       "  </tbody>\n",
       "</table>\n",
       "</div>"
      ],
      "text/plain": [
       "                Cancer Type  Male Risk Development Percentage  \\\n",
       "0                Any cancer                              41.6   \n",
       "1                   Bladder                               3.6   \n",
       "2  Brain and nervous system                               0.7   \n",
       "3                    Breast                               0.1   \n",
       "4          Colon and rectum                               4.3   \n",
       "\n",
       "   Male Risk Development Ratio(One in ____ Person)  \\\n",
       "0                                                2   \n",
       "1                                               28   \n",
       "2                                              145   \n",
       "3                                              726   \n",
       "4                                               23   \n",
       "\n",
       "   Male Risk Dying Percentage  Male Risk Dying Ratio(One in ____ Person)  \\\n",
       "0                        19.0                                          5   \n",
       "1                         0.8                                        119   \n",
       "2                         0.5                                        192   \n",
       "3                         0.1                                       3476   \n",
       "4                         1.6                                         61   \n",
       "\n",
       "   Female Risk Development Percentage  \\\n",
       "0                                39.6   \n",
       "1                                 1.1   \n",
       "2                                 0.5   \n",
       "3                                13.0   \n",
       "4                                 3.9   \n",
       "\n",
       "   Female Risk Development Ratio(One in ____ Person)  \\\n",
       "0                                                  3   \n",
       "1                                                 89   \n",
       "2                                                186   \n",
       "3                                                  8   \n",
       "4                                                 25   \n",
       "\n",
       "   Female Risk Dying Percentage  Female Risk Dying Ratio(One in ____ Person)  \n",
       "0                          17.0                                            6  \n",
       "1                           0.3                                          311  \n",
       "2                           0.4                                          243  \n",
       "3                           2.5                                           41  \n",
       "4                           1.5                                           67  "
      ]
     },
     "execution_count": 3,
     "metadata": {},
     "output_type": "execute_result"
    }
   ],
   "source": [
    "# Display the first few rows of the dataset\n",
    "data.head()"
   ]
  },
  {
   "cell_type": "code",
   "execution_count": 4,
   "id": "c65f5fe1",
   "metadata": {},
   "outputs": [
    {
     "name": "stdout",
     "output_type": "stream",
     "text": [
      "<class 'pandas.core.frame.DataFrame'>\n",
      "RangeIndex: 24 entries, 0 to 23\n",
      "Data columns (total 9 columns):\n",
      " #   Column                                             Non-Null Count  Dtype  \n",
      "---  ------                                             --------------  -----  \n",
      " 0   Cancer Type                                        24 non-null     object \n",
      " 1   Male Risk Development Percentage                   24 non-null     float64\n",
      " 2   Male Risk Development Ratio(One in ____ Person)    24 non-null     int64  \n",
      " 3   Male Risk Dying Percentage                         24 non-null     float64\n",
      " 4   Male Risk Dying Ratio(One in ____ Person)          24 non-null     int64  \n",
      " 5   Female Risk Development Percentage                 24 non-null     float64\n",
      " 6   Female Risk Development Ratio(One in ____ Person)  24 non-null     int64  \n",
      " 7   Female Risk Dying Percentage                       24 non-null     float64\n",
      " 8   Female Risk Dying Ratio(One in ____ Person)        24 non-null     int64  \n",
      "dtypes: float64(4), int64(4), object(1)\n",
      "memory usage: 1.8+ KB\n",
      "None\n"
     ]
    }
   ],
   "source": [
    "# Display basic info about the dataset\n",
    "print(data.info())"
   ]
  },
  {
   "cell_type": "code",
   "execution_count": null,
   "id": "589ed1c0",
   "metadata": {},
   "outputs": [],
   "source": []
  }
 ],
 "metadata": {
  "kernelspec": {
   "display_name": "Python 3 (ipykernel)",
   "language": "python",
   "name": "python3"
  },
  "language_info": {
   "codemirror_mode": {
    "name": "ipython",
    "version": 3
   },
   "file_extension": ".py",
   "mimetype": "text/x-python",
   "name": "python",
   "nbconvert_exporter": "python",
   "pygments_lexer": "ipython3",
   "version": "3.9.12"
  }
 },
 "nbformat": 4,
 "nbformat_minor": 5
}
