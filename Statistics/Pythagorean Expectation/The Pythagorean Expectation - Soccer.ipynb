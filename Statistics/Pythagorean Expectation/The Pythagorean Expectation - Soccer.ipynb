{
 "cells": [
  {
   "cell_type": "markdown",
   "id": "162508e1",
   "metadata": {},
   "source": [
    "# The Pythagorean Expectation\n",
    "\"Pythagorean expectation is a sports analytics formula devised by Bill James to estimate the percentage of games a baseball team \"should\" have won based on the number of runs they scored and allowed. Comparing a team's actual and Pythagorean winning percentage can be used to make predictions and evaluate which teams are over-performing and under-performing. The name comes from the formula's resemblance to the Pythagorean theorem.\"\n",
    "\n",
    "## Goal:\n",
    "The goal of this analysis is to apply Pythagorean Expectation to predict which teams will under/overperform on the second half o the season. I am not going to focus on the details of all match statistics. Just on the Pythagorean Expectation analysis\n",
    "\n",
    "## League:\n",
    "I am going to focus on the English football league Premier League. Specifically on the last season that started at: 11/08/2023 and ended date: 19/05/2024.\n",
    "\n",
    "\"The Premier League is the highest level of the English football league system. Contested by 20 clubs, it operates on a system of promotion and relegation with the English Football League (EFL). Seasons usually run from August to May, with each team playing 38 matches: two against each other, one home and one away. Most games are played on weekend afternoons, with occasional weekday evening fixtures.\""
   ]
  },
  {
   "cell_type": "markdown",
   "id": "e50da61f",
   "metadata": {},
   "source": [
    "# Import Packages"
   ]
  },
  {
   "cell_type": "code",
   "execution_count": 1,
   "id": "747f5f25",
   "metadata": {},
   "outputs": [],
   "source": [
    "import warnings\n",
    "warnings.filterwarnings('ignore')\n",
    "\n",
    "import pandas as pd\n",
    "import numpy as np\n",
    "import statsmodels.formula.api as smf\n",
    "import scipy.stats as stats\n",
    "import matplotlib.pyplot as plt\n",
    "import seaborn as sns\n",
    "import datetime as dt"
   ]
  },
  {
   "cell_type": "markdown",
   "id": "ecda2b81",
   "metadata": {},
   "source": [
    "# Import data"
   ]
  },
  {
   "cell_type": "code",
   "execution_count": 2,
   "id": "c2d1b913",
   "metadata": {},
   "outputs": [],
   "source": [
    "fixtures = pd.read_csv('PremierLeague.csv')\n",
    "\n",
    "pd.set_option('display.max_columns', None)"
   ]
  },
  {
   "cell_type": "markdown",
   "id": "4f6df244",
   "metadata": {},
   "source": [
    "# Gather basic Information"
   ]
  },
  {
   "cell_type": "code",
   "execution_count": 3,
   "id": "18ac5163",
   "metadata": {},
   "outputs": [
    {
     "name": "stdout",
     "output_type": "stream",
     "text": [
      "Stats\n",
      "Rows: 380 \n",
      "Cols: 8\n",
      "\n"
     ]
    }
   ],
   "source": [
    "# Data Size\n",
    "print(f'Stats\\nRows: {fixtures.shape[0]} \\nCols: {fixtures.shape[1]}\\n')"
   ]
  },
  {
   "cell_type": "code",
   "execution_count": 4,
   "id": "caceca11",
   "metadata": {},
   "outputs": [
    {
     "data": {
      "text/html": [
       "<div>\n",
       "<style scoped>\n",
       "    .dataframe tbody tr th:only-of-type {\n",
       "        vertical-align: middle;\n",
       "    }\n",
       "\n",
       "    .dataframe tbody tr th {\n",
       "        vertical-align: top;\n",
       "    }\n",
       "\n",
       "    .dataframe thead th {\n",
       "        text-align: right;\n",
       "    }\n",
       "</style>\n",
       "<table border=\"1\" class=\"dataframe\">\n",
       "  <thead>\n",
       "    <tr style=\"text-align: right;\">\n",
       "      <th></th>\n",
       "      <th>round_number</th>\n",
       "      <th>league_name</th>\n",
       "      <th>name</th>\n",
       "      <th>starting_at</th>\n",
       "      <th>home_team_name</th>\n",
       "      <th>away_team_name</th>\n",
       "      <th>home_team_goals</th>\n",
       "      <th>away_team_goals</th>\n",
       "    </tr>\n",
       "  </thead>\n",
       "  <tbody>\n",
       "    <tr>\n",
       "      <th>0</th>\n",
       "      <td>1</td>\n",
       "      <td>Premier League</td>\n",
       "      <td>Burnley vs Manchester City</td>\n",
       "      <td>8/11/2023</td>\n",
       "      <td>Burnley</td>\n",
       "      <td>Manchester City</td>\n",
       "      <td>0</td>\n",
       "      <td>3</td>\n",
       "    </tr>\n",
       "    <tr>\n",
       "      <th>1</th>\n",
       "      <td>1</td>\n",
       "      <td>Premier League</td>\n",
       "      <td>Arsenal vs Nottingham Forest</td>\n",
       "      <td>8/12/2023</td>\n",
       "      <td>Arsenal</td>\n",
       "      <td>Nottingham Forest</td>\n",
       "      <td>2</td>\n",
       "      <td>1</td>\n",
       "    </tr>\n",
       "    <tr>\n",
       "      <th>2</th>\n",
       "      <td>1</td>\n",
       "      <td>Premier League</td>\n",
       "      <td>AFC Bournemouth vs West Ham United</td>\n",
       "      <td>8/12/2023</td>\n",
       "      <td>AFC Bournemouth</td>\n",
       "      <td>West Ham United</td>\n",
       "      <td>1</td>\n",
       "      <td>1</td>\n",
       "    </tr>\n",
       "    <tr>\n",
       "      <th>3</th>\n",
       "      <td>1</td>\n",
       "      <td>Premier League</td>\n",
       "      <td>Brighton &amp; Hove Albion vs Luton Town</td>\n",
       "      <td>8/12/2023</td>\n",
       "      <td>Brighton &amp; Hove Albion</td>\n",
       "      <td>Luton Town</td>\n",
       "      <td>4</td>\n",
       "      <td>1</td>\n",
       "    </tr>\n",
       "    <tr>\n",
       "      <th>4</th>\n",
       "      <td>1</td>\n",
       "      <td>Premier League</td>\n",
       "      <td>Everton vs Fulham</td>\n",
       "      <td>8/12/2023</td>\n",
       "      <td>Everton</td>\n",
       "      <td>Fulham</td>\n",
       "      <td>0</td>\n",
       "      <td>1</td>\n",
       "    </tr>\n",
       "  </tbody>\n",
       "</table>\n",
       "</div>"
      ],
      "text/plain": [
       "   round_number     league_name                                  name  \\\n",
       "0             1  Premier League            Burnley vs Manchester City   \n",
       "1             1  Premier League          Arsenal vs Nottingham Forest   \n",
       "2             1  Premier League    AFC Bournemouth vs West Ham United   \n",
       "3             1  Premier League  Brighton & Hove Albion vs Luton Town   \n",
       "4             1  Premier League                     Everton vs Fulham   \n",
       "\n",
       "  starting_at          home_team_name     away_team_name  home_team_goals  \\\n",
       "0   8/11/2023                 Burnley    Manchester City                0   \n",
       "1   8/12/2023                 Arsenal  Nottingham Forest                2   \n",
       "2   8/12/2023         AFC Bournemouth    West Ham United                1   \n",
       "3   8/12/2023  Brighton & Hove Albion         Luton Town                4   \n",
       "4   8/12/2023                 Everton             Fulham                0   \n",
       "\n",
       "   away_team_goals  \n",
       "0                3  \n",
       "1                1  \n",
       "2                1  \n",
       "3                1  \n",
       "4                1  "
      ]
     },
     "execution_count": 4,
     "metadata": {},
     "output_type": "execute_result"
    }
   ],
   "source": [
    "fixtures.head()"
   ]
  },
  {
   "cell_type": "code",
   "execution_count": 5,
   "id": "ad2a8dc1",
   "metadata": {},
   "outputs": [
    {
     "name": "stdout",
     "output_type": "stream",
     "text": [
      "<class 'pandas.core.frame.DataFrame'>\n",
      "RangeIndex: 380 entries, 0 to 379\n",
      "Data columns (total 8 columns):\n",
      " #   Column           Non-Null Count  Dtype \n",
      "---  ------           --------------  ----- \n",
      " 0   round_number     380 non-null    int64 \n",
      " 1   league_name      380 non-null    object\n",
      " 2   name             380 non-null    object\n",
      " 3   starting_at      380 non-null    object\n",
      " 4   home_team_name   380 non-null    object\n",
      " 5   away_team_name   380 non-null    object\n",
      " 6   home_team_goals  380 non-null    int64 \n",
      " 7   away_team_goals  380 non-null    int64 \n",
      "dtypes: int64(3), object(5)\n",
      "memory usage: 23.9+ KB\n"
     ]
    }
   ],
   "source": [
    "fixtures.info()"
   ]
  },
  {
   "cell_type": "code",
   "execution_count": 6,
   "id": "786e59aa",
   "metadata": {},
   "outputs": [
    {
     "data": {
      "text/html": [
       "<div>\n",
       "<style scoped>\n",
       "    .dataframe tbody tr th:only-of-type {\n",
       "        vertical-align: middle;\n",
       "    }\n",
       "\n",
       "    .dataframe tbody tr th {\n",
       "        vertical-align: top;\n",
       "    }\n",
       "\n",
       "    .dataframe thead th {\n",
       "        text-align: right;\n",
       "    }\n",
       "</style>\n",
       "<table border=\"1\" class=\"dataframe\">\n",
       "  <thead>\n",
       "    <tr style=\"text-align: right;\">\n",
       "      <th></th>\n",
       "      <th>count</th>\n",
       "      <th>mean</th>\n",
       "      <th>std</th>\n",
       "      <th>min</th>\n",
       "      <th>25%</th>\n",
       "      <th>50%</th>\n",
       "      <th>75%</th>\n",
       "      <th>max</th>\n",
       "    </tr>\n",
       "  </thead>\n",
       "  <tbody>\n",
       "    <tr>\n",
       "      <th>round_number</th>\n",
       "      <td>380.0</td>\n",
       "      <td>19.50</td>\n",
       "      <td>10.98</td>\n",
       "      <td>1.0</td>\n",
       "      <td>10.0</td>\n",
       "      <td>19.5</td>\n",
       "      <td>29.0</td>\n",
       "      <td>38.0</td>\n",
       "    </tr>\n",
       "    <tr>\n",
       "      <th>home_team_goals</th>\n",
       "      <td>380.0</td>\n",
       "      <td>1.80</td>\n",
       "      <td>1.37</td>\n",
       "      <td>0.0</td>\n",
       "      <td>1.0</td>\n",
       "      <td>2.0</td>\n",
       "      <td>3.0</td>\n",
       "      <td>6.0</td>\n",
       "    </tr>\n",
       "    <tr>\n",
       "      <th>away_team_goals</th>\n",
       "      <td>380.0</td>\n",
       "      <td>1.48</td>\n",
       "      <td>1.28</td>\n",
       "      <td>0.0</td>\n",
       "      <td>1.0</td>\n",
       "      <td>1.0</td>\n",
       "      <td>2.0</td>\n",
       "      <td>8.0</td>\n",
       "    </tr>\n",
       "  </tbody>\n",
       "</table>\n",
       "</div>"
      ],
      "text/plain": [
       "                 count   mean    std  min   25%   50%   75%   max\n",
       "round_number     380.0  19.50  10.98  1.0  10.0  19.5  29.0  38.0\n",
       "home_team_goals  380.0   1.80   1.37  0.0   1.0   2.0   3.0   6.0\n",
       "away_team_goals  380.0   1.48   1.28  0.0   1.0   1.0   2.0   8.0"
      ]
     },
     "execution_count": 6,
     "metadata": {},
     "output_type": "execute_result"
    }
   ],
   "source": [
    "fixtures.describe().T.round(2)"
   ]
  },
  {
   "cell_type": "code",
   "execution_count": 7,
   "id": "19849f48",
   "metadata": {},
   "outputs": [
    {
     "data": {
      "text/html": [
       "<div>\n",
       "<style scoped>\n",
       "    .dataframe tbody tr th:only-of-type {\n",
       "        vertical-align: middle;\n",
       "    }\n",
       "\n",
       "    .dataframe tbody tr th {\n",
       "        vertical-align: top;\n",
       "    }\n",
       "\n",
       "    .dataframe thead th {\n",
       "        text-align: right;\n",
       "    }\n",
       "</style>\n",
       "<table border=\"1\" class=\"dataframe\">\n",
       "  <thead>\n",
       "    <tr style=\"text-align: right;\">\n",
       "      <th></th>\n",
       "      <th>round_number</th>\n",
       "      <th>league_name</th>\n",
       "      <th>name</th>\n",
       "      <th>starting_at</th>\n",
       "      <th>home_team_name</th>\n",
       "      <th>away_team_name</th>\n",
       "      <th>home_team_goals</th>\n",
       "      <th>away_team_goals</th>\n",
       "    </tr>\n",
       "  </thead>\n",
       "  <tbody>\n",
       "  </tbody>\n",
       "</table>\n",
       "</div>"
      ],
      "text/plain": [
       "Empty DataFrame\n",
       "Columns: [round_number, league_name, name, starting_at, home_team_name, away_team_name, home_team_goals, away_team_goals]\n",
       "Index: []"
      ]
     },
     "execution_count": 7,
     "metadata": {},
     "output_type": "execute_result"
    }
   ],
   "source": [
    "fixtures[fixtures.duplicated()]"
   ]
  },
  {
   "cell_type": "code",
   "execution_count": 8,
   "id": "4adc5b07",
   "metadata": {},
   "outputs": [
    {
     "data": {
      "text/plain": [
       "round_number       0\n",
       "league_name        0\n",
       "name               0\n",
       "starting_at        0\n",
       "home_team_name     0\n",
       "away_team_name     0\n",
       "home_team_goals    0\n",
       "away_team_goals    0\n",
       "dtype: int64"
      ]
     },
     "execution_count": 8,
     "metadata": {},
     "output_type": "execute_result"
    }
   ],
   "source": [
    "fixtures.isna().sum()"
   ]
  },
  {
   "cell_type": "markdown",
   "id": "58f1dc3d",
   "metadata": {},
   "source": [
    "## Data Prep Pythagorean Expectation (First Half of the Season)"
   ]
  },
  {
   "cell_type": "markdown",
   "id": "5d1a8742",
   "metadata": {},
   "source": [
    "## Season 2022/2023 Premier League"
   ]
  },
  {
   "cell_type": "markdown",
   "id": "7f287d1a",
   "metadata": {},
   "source": [
    "### Filter rounds from 1 to 19 (half season)"
   ]
  },
  {
   "cell_type": "code",
   "execution_count": 9,
   "id": "910f85de",
   "metadata": {},
   "outputs": [],
   "source": [
    "half_season = fixtures[fixtures['round_number'].astype(int) <= 19]"
   ]
  },
  {
   "cell_type": "code",
   "execution_count": 10,
   "id": "2e7c5fc8",
   "metadata": {},
   "outputs": [],
   "source": [
    "# indicates if the team won when was playing home\n",
    "half_season['home_win'] = [1 if  h > v else 0.5 if h == v else 0  \\\n",
    "                           for h, v in zip(half_season['home_team_goals'],half_season['away_team_goals'])]\n",
    "\n",
    "\n",
    "# indicates if the team won when was playing away\n",
    "half_season['away_win'] = [1 if  v > h  else 0.5 if h == v else 0   \\\n",
    "                           for h, v in zip(half_season['home_team_goals'], half_season['away_team_goals'])]\n",
    "\n",
    "half_season['count'] = 1"
   ]
  },
  {
   "cell_type": "code",
   "execution_count": 11,
   "id": "92d0fd6b",
   "metadata": {},
   "outputs": [],
   "source": [
    "# Points System\n",
    "WIN = 3\n",
    "DRAW = 1"
   ]
  },
  {
   "cell_type": "code",
   "execution_count": 12,
   "id": "2ae6301f",
   "metadata": {},
   "outputs": [],
   "source": [
    "# Calculate the number of points playing home\n",
    "half_season['home_points'] = [WIN if h > a else DRAW if h ==  a else 0 \\\n",
    "                              for h, a in zip(half_season['home_win'], half_season['away_win'])] "
   ]
  },
  {
   "cell_type": "code",
   "execution_count": 13,
   "id": "44c24b49",
   "metadata": {},
   "outputs": [],
   "source": [
    "# Calculate the number of points playing away\n",
    "half_season['away_points'] = [WIN if a > h else DRAW if a ==  h else 0 \\\n",
    "                              for h, a in zip(half_season['home_win'], half_season['away_win'])] "
   ]
  },
  {
   "cell_type": "code",
   "execution_count": 14,
   "id": "6f3bfeb7",
   "metadata": {},
   "outputs": [],
   "source": [
    "# Summarize total matches won at home and total goals\n",
    "home_team = (half_season[['home_team_name','home_win','home_team_goals','away_team_goals','home_points','count']]\n",
    "                 .groupby(['home_team_name'])\n",
    "                 .sum()\n",
    "                 .reset_index()\n",
    "                 .rename(columns={'home_team_name': 'team', 'count':'Ph', 'home_team_goals':'FTHGh','away_team_goals':'FTAGh' })\n",
    "            )"
   ]
  },
  {
   "cell_type": "code",
   "execution_count": 15,
   "id": "42e24066",
   "metadata": {},
   "outputs": [],
   "source": [
    "# Summarize total matches won away and total goals\n",
    "away_team = (half_season[['away_team_name','away_win','away_team_goals','home_team_goals','away_points','count']]\n",
    "                 .groupby(['away_team_name'])\n",
    "                 .sum()\n",
    "                 .reset_index()\n",
    "                 .rename(columns={'away_team_name': 'team', 'count':'Pa','away_team_goals':'FTAGa', 'home_team_goals':'FTHGa'})\n",
    "            )"
   ]
  },
  {
   "cell_type": "code",
   "execution_count": 16,
   "id": "a72f8ac3",
   "metadata": {},
   "outputs": [],
   "source": [
    "# Summarize total wins home\n",
    "total_home_win = (half_season[['home_team_name', 'home_win']][half_season['home_win'] == 1]\n",
    "                        .groupby('home_team_name')\n",
    "                        .count()\n",
    "                        .reset_index()\n",
    "                    )\n",
    "# Summarize total lost home\n",
    "total_home_lost = (half_season[['home_team_name', 'home_win']][half_season['home_win'] == 0]\n",
    "                        .groupby('home_team_name')\n",
    "                        .count()\n",
    "                        .reset_index()\n",
    "                    )\n",
    "\n",
    "# Summarize total draw home\n",
    "total_home_draw = (half_season[['home_team_name', 'home_win']][half_season['home_win'] == 0.5]\n",
    "                        .groupby('home_team_name')\n",
    "                        .count()\n",
    "                        .reset_index()\n",
    "                    )"
   ]
  },
  {
   "cell_type": "code",
   "execution_count": null,
   "id": "ea369575",
   "metadata": {},
   "outputs": [],
   "source": []
  }
 ],
 "metadata": {
  "kernelspec": {
   "display_name": "Python 3 (ipykernel)",
   "language": "python",
   "name": "python3"
  },
  "language_info": {
   "codemirror_mode": {
    "name": "ipython",
    "version": 3
   },
   "file_extension": ".py",
   "mimetype": "text/x-python",
   "name": "python",
   "nbconvert_exporter": "python",
   "pygments_lexer": "ipython3",
   "version": "3.9.12"
  }
 },
 "nbformat": 4,
 "nbformat_minor": 5
}
