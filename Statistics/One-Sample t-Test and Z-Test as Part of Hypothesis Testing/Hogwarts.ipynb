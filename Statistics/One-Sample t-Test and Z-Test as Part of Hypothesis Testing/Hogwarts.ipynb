{
 "cells": [
  {
   "cell_type": "markdown",
   "id": "f607a940",
   "metadata": {},
   "source": [
    "Calculate the t-statistic using Python"
   ]
  },
  {
   "cell_type": "code",
   "execution_count": 2,
   "id": "e27f4068",
   "metadata": {},
   "outputs": [
    {
     "data": {
      "text/plain": [
       "Ttest_1sampResult(statistic=array([0.91532492]), pvalue=array([0.18456338]))"
      ]
     },
     "execution_count": 2,
     "metadata": {},
     "output_type": "execute_result"
    }
   ],
   "source": [
    "# import pandas \n",
    "import pandas as pd \n",
    "\n",
    "# read the data into df \n",
    "df = pd.read_csv(\"hogwarts1.csv\")\n",
    "\n",
    "# look at the first 5 rows of df \n",
    "df.head()\n",
    "\n",
    "# calculate mean of score \n",
    "df['score'].mean()\n",
    "\n",
    "# import statistics \n",
    "import statistics as st\n",
    "\n",
    "# calculate the standard deviation of the score \n",
    "st.stdev(df['score'])\n",
    "\n",
    "# import scipy.stats as ss \n",
    "import scipy.stats as ss\n",
    "\n",
    "# one sample t-test\n",
    "ss.ttest_1samp(a = df, popmean = 75, alternative = \"greater\")"
   ]
  },
  {
   "cell_type": "markdown",
   "id": "ab4a7a45",
   "metadata": {},
   "source": [
    "Calculate the Z-statistic using Python"
   ]
  },
  {
   "cell_type": "code",
   "execution_count": 4,
   "id": "6d31926f",
   "metadata": {},
   "outputs": [
    {
     "data": {
      "text/plain": [
       "(array([1.91443252]), array([0.02778246]))"
      ]
     },
     "execution_count": 4,
     "metadata": {},
     "output_type": "execute_result"
    }
   ],
   "source": [
    "# import pandas \n",
    "import pandas as pd \n",
    "\n",
    "# read the data into df \n",
    "df = pd.read_csv(\"hogwarts2.csv\")\n",
    "\n",
    "# look at the first 5 rows of df \n",
    "df.head()\n",
    "\n",
    "# calculate mean of score \n",
    "df['score'].mean()\n",
    "\n",
    "# import statistics \n",
    "import statistics as st\n",
    "\n",
    "# calculate the standard deviation of the score \n",
    "st.stdev(df['score'])\n",
    "\n",
    "# import ztest\n",
    "from statsmodels.stats.weightstats import ztest as ztest\n",
    "\n",
    "# one sample Z-test\n",
    "ztest(df, value = 74, alternative = \"larger\")"
   ]
  },
  {
   "cell_type": "code",
   "execution_count": null,
   "id": "4fbdbda8",
   "metadata": {},
   "outputs": [],
   "source": []
  }
 ],
 "metadata": {
  "kernelspec": {
   "display_name": "Python 3 (ipykernel)",
   "language": "python",
   "name": "python3"
  },
  "language_info": {
   "codemirror_mode": {
    "name": "ipython",
    "version": 3
   },
   "file_extension": ".py",
   "mimetype": "text/x-python",
   "name": "python",
   "nbconvert_exporter": "python",
   "pygments_lexer": "ipython3",
   "version": "3.9.12"
  }
 },
 "nbformat": 4,
 "nbformat_minor": 5
}
