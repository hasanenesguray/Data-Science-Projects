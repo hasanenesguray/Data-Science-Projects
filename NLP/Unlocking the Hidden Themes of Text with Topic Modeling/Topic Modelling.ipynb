{
 "cells": [
  {
   "cell_type": "code",
   "execution_count": 2,
   "id": "ac960d3e",
   "metadata": {},
   "outputs": [],
   "source": [
    "import numpy as np\n",
    "import pandas as pd\n",
    "\n",
    "import gensim.downloader as api\n",
    "from gensim.models import LdaModel, LdaMulticore\n",
    "from gensim.corpora import Dictionary\n",
    "from gensim.parsing.preprocessing import remove_stopwords, STOPWORDS, strip_punctuation, strip_short, stem_text, preprocess_string"
   ]
  },
  {
   "cell_type": "code",
   "execution_count": 3,
   "id": "1264fb34",
   "metadata": {},
   "outputs": [
    {
     "name": "stdout",
     "output_type": "stream",
     "text": [
      "[==================================================] 100.0% 19.2/19.2MB downloaded\n"
     ]
    }
   ],
   "source": [
    "info_datasets = api.info()\n",
    "dataset_info = api.info(\"fake-news\") \n",
    "dataset = api.load(\"fake-news\")"
   ]
  },
  {
   "cell_type": "code",
   "execution_count": 5,
   "id": "b9ced430",
   "metadata": {},
   "outputs": [
    {
     "name": "stderr",
     "output_type": "stream",
     "text": [
      "[nltk_data] Downloading package words to\n",
      "[nltk_data]     /Users/hasanenesguray/nltk_data...\n",
      "[nltk_data]   Unzipping corpora/words.zip.\n"
     ]
    }
   ],
   "source": [
    "import nltk\n",
    "nltk.download('words')\n",
    "words = set(nltk.corpus.words.words())\n",
    "\n",
    "list_of_text = []\n",
    "for text in dataset:\n",
    "    t = \" \".join(w for w in nltk.wordpunct_tokenize(text['title']) \\\n",
    "         if w.lower() in words or not w.isalpha())\n",
    "    if t.strip() == '':\n",
    "        continue\n",
    "    list_of_text.append(t)"
   ]
  },
  {
   "cell_type": "code",
   "execution_count": 6,
   "id": "2f2ced7a",
   "metadata": {},
   "outputs": [
    {
     "data": {
      "text/html": [
       "<div>\n",
       "<style scoped>\n",
       "    .dataframe tbody tr th:only-of-type {\n",
       "        vertical-align: middle;\n",
       "    }\n",
       "\n",
       "    .dataframe tbody tr th {\n",
       "        vertical-align: top;\n",
       "    }\n",
       "\n",
       "    .dataframe thead th {\n",
       "        text-align: right;\n",
       "    }\n",
       "</style>\n",
       "<table border=\"1\" class=\"dataframe\">\n",
       "  <thead>\n",
       "    <tr style=\"text-align: right;\">\n",
       "      <th></th>\n",
       "      <th>index</th>\n",
       "      <th>text</th>\n",
       "    </tr>\n",
       "  </thead>\n",
       "  <tbody>\n",
       "    <tr>\n",
       "      <th>0</th>\n",
       "      <td>0</td>\n",
       "      <td>BUSTED : They Stole Millions In ’ t</td>\n",
       "    </tr>\n",
       "    <tr>\n",
       "      <th>1</th>\n",
       "      <td>1</td>\n",
       "      <td>Re : Why Did Attorney General Lynch Plead The ...</td>\n",
       "    </tr>\n",
       "  </tbody>\n",
       "</table>\n",
       "</div>"
      ],
      "text/plain": [
       "   index                                               text\n",
       "0      0                BUSTED : They Stole Millions In ’ t\n",
       "1      1  Re : Why Did Attorney General Lynch Plead The ..."
      ]
     },
     "execution_count": 6,
     "metadata": {},
     "output_type": "execute_result"
    }
   ],
   "source": [
    "df = pd.DataFrame({'text':list_of_text}).reset_index()\n",
    "df.head(2)"
   ]
  },
  {
   "cell_type": "code",
   "execution_count": 7,
   "id": "2b393380",
   "metadata": {},
   "outputs": [
    {
     "data": {
      "text/html": [
       "<div>\n",
       "<style scoped>\n",
       "    .dataframe tbody tr th:only-of-type {\n",
       "        vertical-align: middle;\n",
       "    }\n",
       "\n",
       "    .dataframe tbody tr th {\n",
       "        vertical-align: top;\n",
       "    }\n",
       "\n",
       "    .dataframe thead th {\n",
       "        text-align: right;\n",
       "    }\n",
       "</style>\n",
       "<table border=\"1\" class=\"dataframe\">\n",
       "  <thead>\n",
       "    <tr style=\"text-align: right;\">\n",
       "      <th></th>\n",
       "      <th>index</th>\n",
       "      <th>text</th>\n",
       "      <th>clean_text</th>\n",
       "    </tr>\n",
       "  </thead>\n",
       "  <tbody>\n",
       "    <tr>\n",
       "      <th>0</th>\n",
       "      <td>0</td>\n",
       "      <td>BUSTED : They Stole Millions In ’ t</td>\n",
       "      <td>[busted, stole, millions]</td>\n",
       "    </tr>\n",
       "    <tr>\n",
       "      <th>1</th>\n",
       "      <td>1</td>\n",
       "      <td>Re : Why Did Attorney General Lynch Plead The ...</td>\n",
       "      <td>[attorney, general, lynch, plead, fifth]</td>\n",
       "    </tr>\n",
       "  </tbody>\n",
       "</table>\n",
       "</div>"
      ],
      "text/plain": [
       "   index                                               text  \\\n",
       "0      0                BUSTED : They Stole Millions In ’ t   \n",
       "1      1  Re : Why Did Attorney General Lynch Plead The ...   \n",
       "\n",
       "                                 clean_text  \n",
       "0                 [busted, stole, millions]  \n",
       "1  [attorney, general, lynch, plead, fifth]  "
      ]
     },
     "execution_count": 7,
     "metadata": {},
     "output_type": "execute_result"
    }
   ],
   "source": [
    "def preprocess(text):\n",
    "    \n",
    "    # clean text based on given filters\n",
    "    CUSTOM_FILTERS = [lambda x: x.lower(), \n",
    "                                remove_stopwords, \n",
    "                                strip_punctuation, \n",
    "                                strip_short]\n",
    "    text = preprocess_string(text, CUSTOM_FILTERS) \n",
    "    return text\n",
    "\n",
    "# apply function to all reviews \n",
    "df['clean_text'] = df['text'].apply(lambda x: preprocess(x))\n",
    "df = df[df['clean_text'].apply(lambda x:len(x)) != 0]\n",
    "df.head(2)"
   ]
  },
  {
   "cell_type": "code",
   "execution_count": 8,
   "id": "553e3c52",
   "metadata": {},
   "outputs": [],
   "source": [
    "corpus = df['clean_text']\n",
    "dictionary = Dictionary(corpus)"
   ]
  },
  {
   "cell_type": "code",
   "execution_count": 9,
   "id": "0858852f",
   "metadata": {},
   "outputs": [],
   "source": [
    "# Create a bag-of-words representation of the text data\n",
    "#print(word for word in text if word not in STOPWORDS)\n",
    "bow_corpus = [dictionary.doc2bow(text) for text in corpus]"
   ]
  },
  {
   "cell_type": "code",
   "execution_count": 10,
   "id": "9cce9e5b",
   "metadata": {},
   "outputs": [
    {
     "name": "stdout",
     "output_type": "stream",
     "text": [
      "Coherence score with 2 clusters: 0.3394307202451518\n",
      "Coherence score with 3 clusters: 0.37095705752747704\n",
      "Coherence score with 4 clusters: 0.30514886763456617\n",
      "Coherence score with 5 clusters: 0.3192822878254116\n",
      "Coherence score with 6 clusters: 0.38925242341108657\n",
      "Coherence score with 7 clusters: 0.3032831880957911\n",
      "Coherence score with 8 clusters: 0.32978931458353294\n",
      "Coherence score with 9 clusters: 0.4156364066494435\n",
      "Coherence score with 10 clusters: 0.3884930051810219\n"
     ]
    }
   ],
   "source": [
    "from gensim.models import LsiModel\n",
    "from gensim.models.coherencemodel import CoherenceModel\n",
    "\n",
    "# find the coherence score with a different number of topics\n",
    "\n",
    "num_of_topics = -1\n",
    "max_coherence = -np.inf\n",
    "for i in range(2,11):\n",
    "    lsi = LsiModel(bow_corpus, num_topics=i, id2word=dictionary)\n",
    "    \n",
    "    coherence_model = CoherenceModel(model=lsi, texts=df['clean_text'], dictionary=dictionary, coherence='c_v')\n",
    "    coherence_score = coherence_model.get_coherence()\n",
    "    \n",
    "    if coherence_score > max_coherence:\n",
    "        max_coherence = coherence_score\n",
    "        num_of_topics = i\n",
    "        \n",
    "    print('Coherence score with {} clusters: {}'.format(i, coherence_score))"
   ]
  },
  {
   "cell_type": "code",
   "execution_count": 11,
   "id": "ffd13c85",
   "metadata": {},
   "outputs": [
    {
     "name": "stdout",
     "output_type": "stream",
     "text": [
      "9\n"
     ]
    }
   ],
   "source": [
    "print(num_of_topics)"
   ]
  },
  {
   "cell_type": "code",
   "execution_count": 12,
   "id": "7cb94ae3",
   "metadata": {},
   "outputs": [],
   "source": [
    "# perform SVD on the bag of words with the LsiModel to extract 5 topics\n",
    "lsi = LsiModel(bow_corpus, num_topics=num_of_topics, id2word=dictionary)"
   ]
  },
  {
   "cell_type": "code",
   "execution_count": 13,
   "id": "625c137d",
   "metadata": {},
   "outputs": [
    {
     "name": "stdout",
     "output_type": "stream",
     "text": [
      "Words in 0: 0.967*\"trump\" + 0.103*\"video\" + 0.091*\"election\" + 0.073*\"new\" + 0.062*\"news\" + 0.054*\"president\" + 0.043*\"world\" + 0.041*\"russia\" + 0.039*\"breaking\".\n",
      "Words in 1: 0.614*\"election\" + 0.351*\"new\" + 0.350*\"news\" + 0.251*\"russia\" + 0.248*\"war\" + 0.211*\"world\" + 0.200*\"2016\" + -0.191*\"trump\" + 0.153*\"video\".\n",
      "Words in 2: 0.702*\"election\" + -0.398*\"new\" + -0.324*\"war\" + -0.273*\"russia\" + -0.254*\"world\" + -0.220*\"news\" + 0.097*\"day\" + -0.078*\"comment\" + 0.043*\"presidential\".\n",
      "Words in 3: -0.752*\"new\" + 0.402*\"news\" + 0.328*\"russia\" + 0.222*\"war\" + -0.134*\"video\" + -0.112*\"comment\" + 0.111*\"world\" + 0.105*\"source\" + 0.103*\"onion\".\n",
      "Words in 4: 0.618*\"news\" + -0.563*\"war\" + -0.370*\"world\" + 0.196*\"source\" + 0.193*\"onion\" + 0.122*\"new\" + -0.119*\"election\" + 0.096*\"breaking\" + -0.083*\"2016\".\n",
      "Words in 5: -0.944*\"video\" + 0.191*\"new\" + 0.157*\"election\" + 0.081*\"trump\" + -0.056*\"2016\" + 0.054*\"news\" + -0.053*\"watch\" + -0.046*\"comment\" + -0.044*\"black\".\n",
      "Words in 6: 0.648*\"russia\" + -0.614*\"comment\" + -0.188*\"world\" + -0.166*\"news\" + 0.159*\"new\" + -0.153*\"war\" + -0.096*\"2016\" + -0.088*\"source\" + -0.087*\"onion\".\n",
      "Words in 7: 0.699*\"comment\" + 0.536*\"russia\" + -0.206*\"war\" + -0.199*\"world\" + -0.185*\"news\" + -0.111*\"source\" + -0.111*\"onion\" + -0.107*\"2016\" + -0.094*\"new\".\n",
      "Words in 8: 0.647*\"world\" + -0.594*\"2016\" + -0.321*\"war\" + -0.198*\"report\" + 0.096*\"election\" + -0.075*\"black\" + 0.055*\"people\" + -0.055*\"state\" + -0.055*\"water\".\n"
     ]
    }
   ],
   "source": [
    "for topic_num, words in lsi.print_topics(num_words=num_of_topics):\n",
    "    print('Words in {}: {}.'.format(topic_num, words))"
   ]
  },
  {
   "cell_type": "code",
   "execution_count": 14,
   "id": "e3b26783",
   "metadata": {},
   "outputs": [
    {
     "data": {
      "application/vnd.jupyter.widget-view+json": {
       "model_id": "04396c5935084ba289f3018f655ac85a",
       "version_major": 2,
       "version_minor": 0
      },
      "text/plain": [
       "  0%|          | 0/11822 [00:00<?, ?it/s]"
      ]
     },
     "metadata": {},
     "output_type": "display_data"
    },
    {
     "name": "stdout",
     "output_type": "stream",
     "text": [
      "[-1  0  1  2  3  4  6  7  8]\n"
     ]
    },
    {
     "data": {
      "text/html": [
       "<div>\n",
       "<style scoped>\n",
       "    .dataframe tbody tr th:only-of-type {\n",
       "        vertical-align: middle;\n",
       "    }\n",
       "\n",
       "    .dataframe tbody tr th {\n",
       "        vertical-align: top;\n",
       "    }\n",
       "\n",
       "    .dataframe thead th {\n",
       "        text-align: right;\n",
       "    }\n",
       "</style>\n",
       "<table border=\"1\" class=\"dataframe\">\n",
       "  <thead>\n",
       "    <tr style=\"text-align: right;\">\n",
       "      <th></th>\n",
       "      <th>Text</th>\n",
       "      <th>Topic</th>\n",
       "    </tr>\n",
       "  </thead>\n",
       "  <tbody>\n",
       "    <tr>\n",
       "      <th>0</th>\n",
       "      <td>BUSTED : They Stole Millions In ’ t</td>\n",
       "      <td>0</td>\n",
       "    </tr>\n",
       "    <tr>\n",
       "      <th>1</th>\n",
       "      <td>Re : Why Did Attorney General Lynch Plead The ...</td>\n",
       "      <td>1</td>\n",
       "    </tr>\n",
       "    <tr>\n",
       "      <th>2</th>\n",
       "      <td>BREAKING : With On Investigation</td>\n",
       "      <td>1</td>\n",
       "    </tr>\n",
       "    <tr>\n",
       "      <th>3</th>\n",
       "      <td>PIN DROP SPEECH BY FATHER OF DAUGHTER And By :...</td>\n",
       "      <td>0</td>\n",
       "    </tr>\n",
       "    <tr>\n",
       "      <th>4</th>\n",
       "      <td>FANTASTIC ! TRUMP ' S 7 POINT PLAN To Reform W...</td>\n",
       "      <td>0</td>\n",
       "    </tr>\n",
       "  </tbody>\n",
       "</table>\n",
       "</div>"
      ],
      "text/plain": [
       "                                                Text  Topic\n",
       "0                BUSTED : They Stole Millions In ’ t      0\n",
       "1  Re : Why Did Attorney General Lynch Plead The ...      1\n",
       "2                   BREAKING : With On Investigation      1\n",
       "3  PIN DROP SPEECH BY FATHER OF DAUGHTER And By :...      0\n",
       "4  FANTASTIC ! TRUMP ' S 7 POINT PLAN To Reform W...      0"
      ]
     },
     "execution_count": 14,
     "metadata": {},
     "output_type": "execute_result"
    }
   ],
   "source": [
    "corpus_lsi = lsi[bow_corpus]\n",
    "from tqdm.notebook import tqdm\n",
    "corpus_lsi = lsi[bow_corpus]\n",
    "topic = []\n",
    "\n",
    "for doc in tqdm(corpus_lsi):\n",
    "    try:\n",
    "        topic.append((np.array([(round(doc[i][1],2)) for i in range(num_of_topics)]).argmax()))\n",
    "    except:\n",
    "        topic.append(-1)\n",
    "\n",
    "print(np.unique(np.array(topic)))\n",
    "# create data frame that shows scores assigned for both topics for each review\n",
    "df_topic = pd.DataFrame()\n",
    "df_topic['Text'] = df['text']\n",
    "df_topic['Topic']= topic\n",
    "df_topic.head(5)"
   ]
  },
  {
   "cell_type": "code",
   "execution_count": 15,
   "id": "8ad08f71",
   "metadata": {},
   "outputs": [
    {
     "name": "stdout",
     "output_type": "stream",
     "text": [
      "(68, 2)\n",
      "Sample text from topic -1:\n",
      " [': 44 الـ24 -']\n",
      "(4636, 2)\n",
      "Sample text from topic 0:\n",
      " [': Manipulate']\n",
      "(4063, 2)\n",
      "Sample text from topic 1:\n",
      " ['The Media Got Into The ’ s Bogus Tale']\n",
      "(331, 2)\n",
      "Sample text from topic 2:\n",
      " ['Federal Will Be Watching You Vote on Election Day']\n",
      "(80, 2)\n",
      "Sample text from topic 3:\n",
      " ['are accused of breaking military oath - Russia News Now']\n",
      "(387, 2)\n",
      "Sample text from topic 4:\n",
      " [\"Beauty Queen Told To Lose Weight Quits Pageant - The Onion - ' s News Source\"]\n",
      "(0, 2)\n",
      "(270, 2)\n",
      "Sample text from topic 6:\n",
      " [\"' Lost ' in the as for Alliance with Russia and China -\"]\n",
      "(1642, 2)\n",
      "Sample text from topic 7:\n",
      " ['“ I Can ’ t Believe I ’ m Doing this ’ — Man Himself Stealing a Cop Car on']\n",
      "(345, 2)\n",
      "Sample text from topic 8:\n",
      " ['It ’ s Not Over Yet : “ They May Be Trying To Steal And Michigan ” | For Electoral College To Ignore Will Of People']\n"
     ]
    }
   ],
   "source": [
    "# find a sample review from each topic\n",
    "for i in range(-1, num_of_topics):\n",
    "    df_topic0 = df_topic[df_topic['Topic'] == i]\n",
    "    print(df_topic0.shape)\n",
    "    if df_topic0.shape[0] == 0:\n",
    "        continue\n",
    "    print('Sample text from topic {}:\\n {}'.format(i, df_topic0.sample(1)['Text'].values))"
   ]
  },
  {
   "cell_type": "code",
   "execution_count": 16,
   "id": "0d0c568f",
   "metadata": {},
   "outputs": [
    {
     "name": "stdout",
     "output_type": "stream",
     "text": [
      "Coherence score with 2 clusters: 0.2573091821538854\n",
      "Coherence score with 3 clusters: 0.23459051792096172\n",
      "Coherence score with 4 clusters: 0.3132240726157674\n",
      "Coherence score with 5 clusters: 0.3232233126732518\n",
      "Coherence score with 6 clusters: 0.3086890497985302\n",
      "Coherence score with 7 clusters: 0.29165481099933294\n",
      "Coherence score with 8 clusters: 0.3329460794491356\n",
      "Coherence score with 9 clusters: 0.33039455846244464\n",
      "Coherence score with 10 clusters: 0.3301432552510535\n"
     ]
    }
   ],
   "source": [
    "# find the coherence score with a different number of topics\n",
    "\n",
    "num_of_topics = -1\n",
    "max_coherence = -np.inf\n",
    "for i in range(2,11):\n",
    "    lda_model = LdaMulticore(corpus=bow_corpus, id2word=dictionary, num_topics=i, passes=4)\n",
    "    coherence_model = CoherenceModel(model=lda_model, texts=df['clean_text'], dictionary=dictionary, coherence='c_v')\n",
    "    coherence_score = coherence_model.get_coherence()\n",
    "    \n",
    "    if coherence_score > max_coherence:\n",
    "        max_coherence = coherence_score\n",
    "        num_of_topics = i\n",
    "        \n",
    "    print('Coherence score with {} clusters: {}'.format(i, coherence_score))"
   ]
  },
  {
   "cell_type": "code",
   "execution_count": 17,
   "id": "4803d9d7",
   "metadata": {},
   "outputs": [
    {
     "name": "stdout",
     "output_type": "stream",
     "text": [
      "8\n"
     ]
    }
   ],
   "source": [
    "print(num_of_topics)"
   ]
  },
  {
   "cell_type": "code",
   "execution_count": 18,
   "id": "e4fe3c36",
   "metadata": {},
   "outputs": [],
   "source": [
    "lda_model = LdaMulticore(corpus=bow_corpus, id2word=dictionary, num_topics=num_of_topics, passes=4)"
   ]
  },
  {
   "cell_type": "code",
   "execution_count": 19,
   "id": "32219939",
   "metadata": {},
   "outputs": [
    {
     "name": "stdout",
     "output_type": "stream",
     "text": [
      "Words in 0: 0.018*\"trump\" + 0.016*\"video\" + 0.014*\"world\" + 0.013*\"new\" + 0.012*\"war\" + 0.011*\"news\" + 0.009*\"investigation\" + 0.007*\"coming\".\n",
      "Words in 1: 0.035*\"trump\" + 0.018*\"campaign\" + 0.015*\"new\" + 0.011*\"news\" + 0.008*\"breaking\" + 0.007*\"source\" + 0.007*\"onion\" + 0.006*\"world\".\n",
      "Words in 2: 0.070*\"trump\" + 0.030*\"election\" + 0.013*\"2016\" + 0.013*\"president\" + 0.007*\"media\" + 0.006*\"state\" + 0.006*\"day\" + 0.005*\"win\".\n",
      "Words in 3: 0.027*\"trump\" + 0.016*\"comment\" + 0.012*\"election\" + 0.009*\"black\" + 0.007*\"rock\" + 0.006*\"standing\" + 0.006*\"2016\" + 0.006*\"day\".\n",
      "Words in 4: 0.026*\"trump\" + 0.016*\"war\" + 0.010*\"new\" + 0.006*\"white\" + 0.006*\"man\" + 0.006*\"news\" + 0.006*\"money\" + 0.006*\"truth\".\n",
      "Words in 5: 0.027*\"trump\" + 0.017*\"election\" + 0.015*\"video\" + 0.013*\"vote\" + 0.008*\"voting\" + 0.007*\"government\" + 0.007*\"war\" + 0.007*\"news\".\n",
      "Words in 6: 0.017*\"new\" + 0.017*\"comment\" + 0.012*\"news\" + 0.010*\"world\" + 0.009*\"people\" + 0.008*\"information\" + 0.007*\"war\" + 0.006*\"russia\".\n",
      "Words in 7: 0.023*\"trump\" + 0.022*\"russia\" + 0.022*\"video\" + 0.008*\"time\" + 0.007*\"new\" + 0.007*\"news\" + 0.007*\"report\" + 0.006*\"state\".\n"
     ]
    }
   ],
   "source": [
    "for topic_num, words in lda_model.print_topics(num_words=num_of_topics):\n",
    "    print('Words in {}: {}.'.format(topic_num, words))"
   ]
  },
  {
   "cell_type": "code",
   "execution_count": 20,
   "id": "849cfb88",
   "metadata": {},
   "outputs": [
    {
     "data": {
      "application/vnd.jupyter.widget-view+json": {
       "model_id": "db2238cde23c478ab38a34006291e851",
       "version_major": 2,
       "version_minor": 0
      },
      "text/plain": [
       "  0%|          | 0/11822 [00:00<?, ?it/s]"
      ]
     },
     "metadata": {},
     "output_type": "display_data"
    },
    {
     "name": "stdout",
     "output_type": "stream",
     "text": [
      "[-1  0  1  2  3  4  5  6  7]\n"
     ]
    },
    {
     "data": {
      "text/html": [
       "<div>\n",
       "<style scoped>\n",
       "    .dataframe tbody tr th:only-of-type {\n",
       "        vertical-align: middle;\n",
       "    }\n",
       "\n",
       "    .dataframe tbody tr th {\n",
       "        vertical-align: top;\n",
       "    }\n",
       "\n",
       "    .dataframe thead th {\n",
       "        text-align: right;\n",
       "    }\n",
       "</style>\n",
       "<table border=\"1\" class=\"dataframe\">\n",
       "  <thead>\n",
       "    <tr style=\"text-align: right;\">\n",
       "      <th></th>\n",
       "      <th>Text</th>\n",
       "      <th>Topic</th>\n",
       "    </tr>\n",
       "  </thead>\n",
       "  <tbody>\n",
       "    <tr>\n",
       "      <th>0</th>\n",
       "      <td>BUSTED : They Stole Millions In ’ t</td>\n",
       "      <td>0</td>\n",
       "    </tr>\n",
       "    <tr>\n",
       "      <th>1</th>\n",
       "      <td>Re : Why Did Attorney General Lynch Plead The ...</td>\n",
       "      <td>1</td>\n",
       "    </tr>\n",
       "    <tr>\n",
       "      <th>2</th>\n",
       "      <td>BREAKING : With On Investigation</td>\n",
       "      <td>0</td>\n",
       "    </tr>\n",
       "    <tr>\n",
       "      <th>3</th>\n",
       "      <td>PIN DROP SPEECH BY FATHER OF DAUGHTER And By :...</td>\n",
       "      <td>3</td>\n",
       "    </tr>\n",
       "    <tr>\n",
       "      <th>4</th>\n",
       "      <td>FANTASTIC ! TRUMP ' S 7 POINT PLAN To Reform W...</td>\n",
       "      <td>2</td>\n",
       "    </tr>\n",
       "  </tbody>\n",
       "</table>\n",
       "</div>"
      ],
      "text/plain": [
       "                                                Text  Topic\n",
       "0                BUSTED : They Stole Millions In ’ t      0\n",
       "1  Re : Why Did Attorney General Lynch Plead The ...      1\n",
       "2                   BREAKING : With On Investigation      0\n",
       "3  PIN DROP SPEECH BY FATHER OF DAUGHTER And By :...      3\n",
       "4  FANTASTIC ! TRUMP ' S 7 POINT PLAN To Reform W...      2"
      ]
     },
     "execution_count": 20,
     "metadata": {},
     "output_type": "execute_result"
    }
   ],
   "source": [
    "from tqdm.notebook import tqdm\n",
    "corpus_lda = lda_model[bow_corpus]\n",
    "topic = []\n",
    "\n",
    "for doc in tqdm(corpus_lda):\n",
    "    try:\n",
    "        topic.append((np.array([(round(doc[i][1],2)) for i in range(num_of_topics)]).argmax()))\n",
    "    except:\n",
    "        topic.append(-1)\n",
    "\n",
    "print(np.unique(np.array(topic)))\n",
    "# create data frame that shows scores assigned for both topics for each review\n",
    "df_topic = pd.DataFrame()\n",
    "df_topic['Text'] = df['text']\n",
    "df_topic['Topic']= topic\n",
    "df_topic.head(5)"
   ]
  },
  {
   "cell_type": "code",
   "execution_count": 21,
   "id": "fe09d004",
   "metadata": {},
   "outputs": [
    {
     "name": "stdout",
     "output_type": "stream",
     "text": [
      "(93, 2)\n",
      "Sample text from topic -1:\n",
      " ['. Willie : ‘ The Western central bank franchise system is totally broken , totally insolvent , and totally corrupt ’… : ‘ If debt to increase at twice the rate of , financial engineering can only smooth over for so long .’']\n",
      "(1346, 2)\n",
      "Sample text from topic 0:\n",
      " ['What If I Told You Is Great for Reversing ’ s ?']\n",
      "(1458, 2)\n",
      "Sample text from topic 1:\n",
      " ['had every right to take over US embassy | Today']\n",
      "(1727, 2)\n",
      "Sample text from topic 2:\n",
      " ['Review : Brit ’ s “ The ”']\n",
      "(1505, 2)\n",
      "Sample text from topic 3:\n",
      " ['Kim Could Pay As Much As $ 225 , 000 In Legal For Her Publicity Stunt']\n",
      "(1469, 2)\n",
      "Sample text from topic 4:\n",
      " ['The Brain From Traumatic And , Study']\n",
      "(1360, 2)\n",
      "Sample text from topic 5:\n",
      " [\"Are White And Forcing Them Into Sex Slavery , ' s Charity\"]\n",
      "(1365, 2)\n",
      "Sample text from topic 6:\n",
      " ['Re : Don ’ t CLICK that , stupid ! Is this from March 2016 where # PodestaEmails21 and ?']\n",
      "(1499, 2)\n",
      "Sample text from topic 7:\n",
      " ['Re : End Time Persecution Is Here : Russia Just Evangelism And China Torn Down 1000s Of']\n"
     ]
    }
   ],
   "source": [
    "# find a sample review from each topic\n",
    "for i in range(-1, num_of_topics):\n",
    "    df_topic0 = df_topic[df_topic['Topic'] == i]\n",
    "    print(df_topic0.shape)\n",
    "    if df_topic0.shape[0] == 0:\n",
    "        continue\n",
    "    print('Sample text from topic {}:\\n {}'.format(i, df_topic0.sample(1)['Text'].values))"
   ]
  },
  {
   "cell_type": "code",
   "execution_count": null,
   "id": "7c2d7f91",
   "metadata": {},
   "outputs": [],
   "source": []
  }
 ],
 "metadata": {
  "kernelspec": {
   "display_name": "Python 3 (ipykernel)",
   "language": "python",
   "name": "python3"
  },
  "language_info": {
   "codemirror_mode": {
    "name": "ipython",
    "version": 3
   },
   "file_extension": ".py",
   "mimetype": "text/x-python",
   "name": "python",
   "nbconvert_exporter": "python",
   "pygments_lexer": "ipython3",
   "version": "3.9.12"
  }
 },
 "nbformat": 4,
 "nbformat_minor": 5
}
